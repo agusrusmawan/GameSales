{
  "nbformat": 4,
  "nbformat_minor": 0,
  "metadata": {
    "colab": {
      "provenance": [],
      "authorship_tag": "ABX9TyMIqdDO0BWJUD8Y1mWd0ZO1",
      "include_colab_link": true
    },
    "kernelspec": {
      "name": "python3",
      "display_name": "Python 3"
    },
    "language_info": {
      "name": "python"
    }
  },
  "cells": [
    {
      "cell_type": "markdown",
      "metadata": {
        "id": "view-in-github",
        "colab_type": "text"
      },
      "source": [
        "<a href=\"https://colab.research.google.com/github/agusrusmawan/GameSales/blob/main/Games_Sales.ipynb\" target=\"_parent\"><img src=\"https://colab.research.google.com/assets/colab-badge.svg\" alt=\"Open In Colab\"/></a>"
      ]
    },
    {
      "cell_type": "markdown",
      "source": [
        "# Game Sales Project\n",
        "## Name : Agus Rusmawan\n"
      ],
      "metadata": {
        "id": "55MRak4ROKPU"
      }
    },
    {
      "cell_type": "markdown",
      "source": [
        "# Context\n",
        "## Gaming industry is an interesting field to explore, it would be fun knowing who the most popular publishers and developers and which games are the most popular.\n",
        "\n",
        "Questions to be Answered\n",
        "Which game is oldest, and the newest games in that dataset?\n",
        "Which publisher published most of games?\n",
        "Which developer developed moso of games?\n",
        "Which series has the most sales?\n",
        "Which series have the most games?\n"
      ],
      "metadata": {
        "id": "I4rtKMNaOiKt"
      }
    },
    {
      "cell_type": "markdown",
      "source": [
        "Data Cleaning Project\n",
        "\n",
        "    Import Library\n",
        "    Load file/table from github.com\n",
        "    Assesing Data (check type data, check missing value, check duplication, check Summary of statistical parameters of numeric columns)\n",
        "    Cleaning Data (Eliminate duplicate data, handling missing values, handling inaccurate values."
      ],
      "metadata": {
        "id": "Iir9ErdZPIk_"
      }
    },
    {
      "cell_type": "code",
      "execution_count": 1,
      "metadata": {
        "id": "2UpptqMLHB6Y"
      },
      "outputs": [],
      "source": [
        "# Import Library\n",
        "import pandas as pd\n",
        "import numpy as np\n",
        "import matplotlib.pyplot as plt\n",
        "import seaborn as sns\n"
      ]
    }
  ]
}